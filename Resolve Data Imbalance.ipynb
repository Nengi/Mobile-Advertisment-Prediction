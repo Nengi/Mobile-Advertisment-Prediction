{
 "cells": [
  {
   "cell_type": "code",
   "execution_count": 1,
   "metadata": {},
   "outputs": [],
   "source": [
    "import numpy as np\n",
    "import pandas as pd\n",
    "from imblearn.over_sampling import SMOTENC"
   ]
  },
  {
   "cell_type": "code",
   "execution_count": 3,
   "metadata": {},
   "outputs": [
    {
     "data": {
      "text/html": [
       "<div>\n",
       "<style scoped>\n",
       "    .dataframe tbody tr th:only-of-type {\n",
       "        vertical-align: middle;\n",
       "    }\n",
       "\n",
       "    .dataframe tbody tr th {\n",
       "        vertical-align: top;\n",
       "    }\n",
       "\n",
       "    .dataframe thead th {\n",
       "        text-align: right;\n",
       "    }\n",
       "</style>\n",
       "<table border=\"1\" class=\"dataframe\">\n",
       "  <thead>\n",
       "    <tr style=\"text-align: right;\">\n",
       "      <th></th>\n",
       "      <th>install</th>\n",
       "      <th>device_volume</th>\n",
       "      <th>wifi</th>\n",
       "      <th>resolution</th>\n",
       "      <th>lang_en_us</th>\n",
       "      <th>lang_en_other</th>\n",
       "      <th>lang_other</th>\n",
       "      <th>landscape</th>\n",
       "      <th>iOS10</th>\n",
       "      <th>iOS9</th>\n",
       "      <th>iOS8</th>\n",
       "      <th>iOS7</th>\n",
       "      <th>retina_hd</th>\n",
       "      <th>iPhone</th>\n",
       "      <th>iPad</th>\n",
       "      <th>publisher_install_rate</th>\n",
       "      <th>install_rate_sq</th>\n",
       "    </tr>\n",
       "  </thead>\n",
       "  <tbody>\n",
       "    <tr>\n",
       "      <td>0</td>\n",
       "      <td>0</td>\n",
       "      <td>0.12</td>\n",
       "      <td>1</td>\n",
       "      <td>0.72704</td>\n",
       "      <td>1</td>\n",
       "      <td>0</td>\n",
       "      <td>0</td>\n",
       "      <td>0</td>\n",
       "      <td>0</td>\n",
       "      <td>1</td>\n",
       "      <td>0</td>\n",
       "      <td>0</td>\n",
       "      <td>0</td>\n",
       "      <td>1</td>\n",
       "      <td>0</td>\n",
       "      <td>0.0</td>\n",
       "      <td>0.0</td>\n",
       "    </tr>\n",
       "    <tr>\n",
       "      <td>1</td>\n",
       "      <td>0</td>\n",
       "      <td>0.25</td>\n",
       "      <td>1</td>\n",
       "      <td>1.00050</td>\n",
       "      <td>1</td>\n",
       "      <td>0</td>\n",
       "      <td>0</td>\n",
       "      <td>0</td>\n",
       "      <td>1</td>\n",
       "      <td>0</td>\n",
       "      <td>0</td>\n",
       "      <td>0</td>\n",
       "      <td>1</td>\n",
       "      <td>1</td>\n",
       "      <td>0</td>\n",
       "      <td>0.0</td>\n",
       "      <td>0.0</td>\n",
       "    </tr>\n",
       "    <tr>\n",
       "      <td>2</td>\n",
       "      <td>0</td>\n",
       "      <td>1.00</td>\n",
       "      <td>1</td>\n",
       "      <td>1.00050</td>\n",
       "      <td>0</td>\n",
       "      <td>1</td>\n",
       "      <td>0</td>\n",
       "      <td>0</td>\n",
       "      <td>1</td>\n",
       "      <td>0</td>\n",
       "      <td>0</td>\n",
       "      <td>0</td>\n",
       "      <td>1</td>\n",
       "      <td>1</td>\n",
       "      <td>0</td>\n",
       "      <td>0.0</td>\n",
       "      <td>0.0</td>\n",
       "    </tr>\n",
       "    <tr>\n",
       "      <td>3</td>\n",
       "      <td>0</td>\n",
       "      <td>0.69</td>\n",
       "      <td>0</td>\n",
       "      <td>1.00050</td>\n",
       "      <td>1</td>\n",
       "      <td>0</td>\n",
       "      <td>0</td>\n",
       "      <td>0</td>\n",
       "      <td>0</td>\n",
       "      <td>1</td>\n",
       "      <td>0</td>\n",
       "      <td>0</td>\n",
       "      <td>1</td>\n",
       "      <td>1</td>\n",
       "      <td>0</td>\n",
       "      <td>0.0</td>\n",
       "      <td>0.0</td>\n",
       "    </tr>\n",
       "    <tr>\n",
       "      <td>4</td>\n",
       "      <td>0</td>\n",
       "      <td>0.75</td>\n",
       "      <td>1</td>\n",
       "      <td>1.00050</td>\n",
       "      <td>1</td>\n",
       "      <td>0</td>\n",
       "      <td>0</td>\n",
       "      <td>0</td>\n",
       "      <td>1</td>\n",
       "      <td>0</td>\n",
       "      <td>0</td>\n",
       "      <td>0</td>\n",
       "      <td>1</td>\n",
       "      <td>1</td>\n",
       "      <td>0</td>\n",
       "      <td>0.0</td>\n",
       "      <td>0.0</td>\n",
       "    </tr>\n",
       "  </tbody>\n",
       "</table>\n",
       "</div>"
      ],
      "text/plain": [
       "   install  device_volume  wifi  resolution  lang_en_us  lang_en_other  \\\n",
       "0        0           0.12     1     0.72704           1              0   \n",
       "1        0           0.25     1     1.00050           1              0   \n",
       "2        0           1.00     1     1.00050           0              1   \n",
       "3        0           0.69     0     1.00050           1              0   \n",
       "4        0           0.75     1     1.00050           1              0   \n",
       "\n",
       "   lang_other  landscape  iOS10  iOS9  iOS8  iOS7  retina_hd  iPhone  iPad  \\\n",
       "0           0          0      0     1     0     0          0       1     0   \n",
       "1           0          0      1     0     0     0          1       1     0   \n",
       "2           0          0      1     0     0     0          1       1     0   \n",
       "3           0          0      0     1     0     0          1       1     0   \n",
       "4           0          0      1     0     0     0          1       1     0   \n",
       "\n",
       "   publisher_install_rate  install_rate_sq  \n",
       "0                     0.0              0.0  \n",
       "1                     0.0              0.0  \n",
       "2                     0.0              0.0  \n",
       "3                     0.0              0.0  \n",
       "4                     0.0              0.0  "
      ]
     },
     "execution_count": 3,
     "metadata": {},
     "output_type": "execute_result"
    }
   ],
   "source": [
    "df = pd.read_csv(\"smpl.csv\")\n",
    "df.head()"
   ]
  },
  {
   "cell_type": "code",
   "execution_count": 4,
   "metadata": {},
   "outputs": [
    {
     "name": "stdout",
     "output_type": "stream",
     "text": [
      "0    84246\n",
      "1      692\n",
      "Name: install, dtype: int64\n",
      "   device_volume  wifi  resolution  lang_en_us  lang_en_other  lang_other  \\\n",
      "0           0.12     1     0.72704           1              0           0   \n",
      "1           0.25     1     1.00050           1              0           0   \n",
      "2           1.00     1     1.00050           0              1           0   \n",
      "3           0.69     0     1.00050           1              0           0   \n",
      "4           0.75     1     1.00050           1              0           0   \n",
      "\n",
      "   landscape  iOS10  iOS9  iOS8  iOS7  retina_hd  iPhone  iPad  \\\n",
      "0          0      0     1     0     0          0       1     0   \n",
      "1          0      1     0     0     0          1       1     0   \n",
      "2          0      1     0     0     0          1       1     0   \n",
      "3          0      0     1     0     0          1       1     0   \n",
      "4          0      1     0     0     0          1       1     0   \n",
      "\n",
      "   publisher_install_rate  install_rate_sq  \n",
      "0                     0.0              0.0  \n",
      "1                     0.0              0.0  \n",
      "2                     0.0              0.0  \n",
      "3                     0.0              0.0  \n",
      "4                     0.0              0.0  \n"
     ]
    }
   ],
   "source": [
    "#Divide the dataset\n",
    "y = df.loc[:,'install']\n",
    "x = df.loc[:,'device_volume':'install_rate_sq']\n",
    "print(y.value_counts())\n",
    "print(x.head())"
   ]
  },
  {
   "cell_type": "code",
   "execution_count": 5,
   "metadata": {},
   "outputs": [],
   "source": [
    "smote_nc = SMOTENC(categorical_features=[1, 3, 4, 5, 6, 7,8, 9, 10 , 11, 12, 13], random_state=0)\n",
    "x_smote, y_smote = smote_nc.fit_resample(x, y)"
   ]
  },
  {
   "cell_type": "code",
   "execution_count": 6,
   "metadata": {},
   "outputs": [
    {
     "data": {
      "text/plain": [
       "(168492, 16)"
      ]
     },
     "execution_count": 6,
     "metadata": {},
     "output_type": "execute_result"
    }
   ],
   "source": [
    "x_smote.shape"
   ]
  },
  {
   "cell_type": "code",
   "execution_count": 7,
   "metadata": {},
   "outputs": [
    {
     "data": {
      "text/plain": [
       "(168492, 17)"
      ]
     },
     "execution_count": 7,
     "metadata": {},
     "output_type": "execute_result"
    }
   ],
   "source": [
    "train4 = pd.concat([y_smote,x_smote],axis=1,join='outer')\n",
    "train4.shape"
   ]
  },
  {
   "cell_type": "code",
   "execution_count": 8,
   "metadata": {},
   "outputs": [],
   "source": [
    "train4.to_csv(\"train_smote.csv\")"
   ]
  },
  {
   "cell_type": "code",
   "execution_count": null,
   "metadata": {},
   "outputs": [],
   "source": []
  }
 ],
 "metadata": {
  "kernelspec": {
   "display_name": "Python 3",
   "language": "python",
   "name": "python3"
  },
  "language_info": {
   "codemirror_mode": {
    "name": "ipython",
    "version": 3
   },
   "file_extension": ".py",
   "mimetype": "text/x-python",
   "name": "python",
   "nbconvert_exporter": "python",
   "pygments_lexer": "ipython3",
   "version": "3.7.4"
  }
 },
 "nbformat": 4,
 "nbformat_minor": 4
}
